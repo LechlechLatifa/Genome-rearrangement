{
 "cells": [
  {
   "cell_type": "code",
   "execution_count": 1,
   "metadata": {},
   "outputs": [],
   "source": [
    "import numpy as np"
   ]
  },
  {
   "cell_type": "code",
   "execution_count": 2,
   "metadata": {},
   "outputs": [],
   "source": [
    "def reverse(seq,i,j):\n",
    "    seq[i:j] = seq[i:j][::-1]\n",
    "    return seq"
   ]
  },
  {
   "cell_type": "markdown",
   "metadata": {},
   "source": [
    "# 1. Greedy Algorithm \n",
    "\n"
   ]
  },
  {
   "cell_type": "markdown",
   "metadata": {},
   "source": [
    "\n",
    "* Simple Reversal Sort algorithm is not optimal \n",
    "    * For example we were able to solve [6 1 2 3 4 5] in two steps \n",
    "        *  invertthe fist element with the reset of the sequence  [5 4 3 2 1 | 6]\n",
    "        *  invert the fist part [1 2 3 4 5 6]\n",
    "* Note that optimal algorithms are unknown. Therefore approximation algorithms are used. "
   ]
  },
  {
   "cell_type": "code",
   "execution_count": 3,
   "metadata": {},
   "outputs": [],
   "source": [
    "# function :  simple_reverse_sort\n",
    "# input    :  sequence\n",
    "# output   :  sequence\n",
    "def simple_reverse_sort(seq):\n",
    "    n = len(seq)\n",
    "    for i in range(n):\n",
    "       j = np.where(seq == i+1)[0][0]\n",
    "       if j != i: \n",
    "           j = j + 1\n",
    "           seq[i:j] = seq[i:j][::-1]\n",
    "           print(seq)\n",
    "           simple_reverse_sort(seq)\n",
    "       if np.array_equal(seq, np.arange(1,n+1)):   #Let suppose that seq start from 1 \n",
    "           return seq        "
   ]
  },
  {
   "cell_type": "code",
   "execution_count": 7,
   "metadata": {},
   "outputs": [
    {
     "name": "stdout",
     "output_type": "stream",
     "text": [
      " Example 1\n",
      "Sequence before [1 2 3 4 5 6]\n",
      "Sequence after [1 2 3 4 5 6]\n",
      "\n",
      " Example 2\n",
      "Sequence before [6 1 2 3 4 5]\n",
      "Using Greedy Algo\n",
      "[1 6 2 3 4 5]\n",
      "[1 2 6 3 4 5]\n",
      "[1 2 3 6 4 5]\n",
      "[1 2 3 4 6 5]\n",
      "[1 2 3 4 5 6]\n",
      "Sequence after [1 2 3 4 5 6]\n"
     ]
    }
   ],
   "source": [
    "# Example 1 \n",
    "print(\" Example 1\")\n",
    "seq_1 = np.array([1,2,3,4,5,6])\n",
    "print(\"Sequence before\", seq_1)\n",
    "seq_2 = simple_reverse_sort(seq_1)\n",
    "print(\"Sequence after\",seq_2)\n",
    "\n",
    "# Example 2\n",
    "print(\"\\n Example 2\")\n",
    "seq_1 = np.array([6,1,2,3,4,5])\n",
    "print(\"Sequence before\", seq_1)\n",
    "print(\"Using Greedy Algo\")\n",
    "seq_2 = simple_reverse_sort(seq_1)\n",
    "print(\"Sequence after\",seq_2)\n"
   ]
  },
  {
   "cell_type": "markdown",
   "metadata": {},
   "source": [
    "---"
   ]
  },
  {
   "cell_type": "markdown",
   "metadata": {},
   "source": [
    "## Adjacencies and Breakpoints\n",
    "* An adjacency : a pair of adjacent elements that are consecutive\n",
    "* A breakpoint : a pair of adjacent elements that are not consecutive\n",
    "\n",
    "Extending Permutations:\n",
    "Is the process of adding 0 at the begining of a sequence and n+1 at the end, where n is the length of the sequence.\n",
    "\n",
    "For example: Seq = [1 2 3 4 5 6]   become [ 0 1 2 3 4 5 6 7]  "
   ]
  },
  {
   "cell_type": "code",
   "execution_count": 8,
   "metadata": {},
   "outputs": [],
   "source": [
    "# b : function \n",
    "# input : sequence \n",
    "# output: the number of break point of a given sequence seq\n",
    "def b(seq): \n",
    "    total_break_points = 0\n",
    "    for i in range(len(seq)-1):\n",
    "        if np.abs(seq[i]-seq[i+1]) != 1:\n",
    "            total_break_points += 1\n",
    "    return total_break_points"
   ]
  },
  {
   "cell_type": "code",
   "execution_count": 10,
   "metadata": {},
   "outputs": [],
   "source": [
    "# break sequence function\n",
    "# input : sequence\n",
    "# output : total_break_points: total number of break points\n",
    "#          broke_seq: list of sub sequence \n",
    "#          break_point_indice : break point index in the sequence\n",
    "\n",
    "\n",
    "def break_seq(seq):\n",
    "    total_break_points = 0\n",
    "    j = 0\n",
    "    broke_seq = []\n",
    "    break_point_indice = []\n",
    "    for i in range(len(seq)-1):\n",
    "        if np.abs(seq[i]-seq[i+1]) != 1:\n",
    "            total_break_points += 1\n",
    "            broke_seq.append(seq[j:i+1])\n",
    "            break_point_indice.append(i+1)\n",
    "            #print(seq[j:i+1])\n",
    "            j = i+1\n",
    "        \n",
    "    return total_break_points, broke_seq, break_point_indice"
   ]
  },
  {
   "cell_type": "code",
   "execution_count": 27,
   "metadata": {},
   "outputs": [],
   "source": [
    "def print_break_seq(seq,break_point_indice):\n",
    "    result = ' '.join(f\"| {num}\" if i in break_point_indice else str(num) for i, num in enumerate(seq))\n",
    "    return result.strip()"
   ]
  },
  {
   "cell_type": "code",
   "execution_count": 29,
   "metadata": {},
   "outputs": [
    {
     "name": "stdout",
     "output_type": "stream",
     "text": [
      "Break sequence 0 | 6 5 | 3 | 1 2 | 4 | 7\n",
      "Number of break points is  5\n",
      "List of sub list [array([0]), array([6, 5]), array([3]), array([1, 2]), array([4])]\n",
      "list of indces [1, 3, 4, 6, 7]\n"
     ]
    }
   ],
   "source": [
    "# Example \n",
    "seq = [6,5,3,1,2,4]\n",
    "\n",
    "# Extending Permutations\n",
    "seq = np.insert(seq,0,0)\n",
    "seq = np.insert(seq,len(seq),len(seq))\n",
    "# break sequence\n",
    "total_break_points, broke_seq, break_point_indice = break_seq(seq)\n",
    "\n",
    "print(\"Break sequence\",print_break_seq(seq,break_point_indice))\n",
    "\n",
    "print(\"Number of break points is \", total_break_points)\n",
    "print(\"List of sub list\",broke_seq)\n",
    "print(\"list of indces\", break_point_indice)\n"
   ]
  },
  {
   "cell_type": "markdown",
   "metadata": {},
   "source": [
    "## Reversal Distance and Breakpoints \n",
    "\n",
    "Each reversal eliminates at most 2 breakpoints. This implies: reversal distance ≥ number of breakpoints / 2\n",
    "\n",
    "For example:\n",
    "* Seq = [2 3 1 4 6 5]\n",
    "* 1. Extend the permuation : \n",
    "    * Add 0 in the begining and n+1 in the end (n+1 = len(seq)+1 = 6+1 = 7). Seq = [0 2 3 1 4 6 5 7]\n",
    "    * Calculate b(seq): number of break point in each step \n",
    "        *   [0 | 2 3 | 1 | 4 | 6 5 | 7] $\\rightarrow$ b(seq) = 5\n",
    "        *  the last element befor the break point is k = 0 with position i = 0, We inverse sequence from i+1 to j + 1, where j = 3 is the position of k+1 = 1. inverte(seq,i,j) function is used in this step  and we get [0 1 | 3 2 | 4 | 6 5 | 7] $\\rightarrow$ b(seq) = 4\n",
    "        * [0 1 2 3  4 | 6 5 | 7] $\\rightarrow$ b(seq) = 2\n",
    "        * [0 1 2 3  4 5 6  7] $\\rightarrow$ b(seq) = 0"
   ]
  },
  {
   "cell_type": "code",
   "execution_count": 9,
   "metadata": {},
   "outputs": [],
   "source": [
    "# To check this code\n",
    "def break_point_reversal_sort(seq):\n",
    "    while b(seq) > 0:\n",
    "        # Among all possible reversals, choose reversal minimizing b(seq•reverse)\n",
    "         break_point_reversal_sort(seq)"
   ]
  },
  {
   "cell_type": "markdown",
   "metadata": {},
   "source": [
    "Problem:  There is a possibility that this algorithm will continue to function indefinitely."
   ]
  },
  {
   "cell_type": "markdown",
   "metadata": {},
   "source": [
    "## 3. Improved Breakpoint Reversal Sort"
   ]
  },
  {
   "cell_type": "code",
   "execution_count": 30,
   "metadata": {},
   "outputs": [],
   "source": [
    "def strip(broke_seq):\n",
    "    decreasing_list = []\n",
    "    increasing_list = []\n",
    "    for i in range (len(broke_seq)):\n",
    "        sub_list = broke_seq[i]\n",
    "        # if we have one element it is a incrasing strip\n",
    "        if(len(sub_list) == 1): \n",
    "            increasing_list.append(sub_list)  \n",
    "        elif (sub_list[0]-sub_list[1] == -1):\n",
    "            increasing_list.append(sub_list)\n",
    "        else:\n",
    "            decreasing_list.append(sub_list)\n",
    "\n",
    "    return increasing_list, decreasing_list"
   ]
  },
  {
   "cell_type": "markdown",
   "metadata": {},
   "source": [
    "### code part 1"
   ]
  },
  {
   "cell_type": "code",
   "execution_count": 31,
   "metadata": {},
   "outputs": [],
   "source": [
    "# This function return the indices of the sequence to invert, given decreasing_list\n",
    "def get_ij_decreasing(seq, decreasing_list):\n",
    "    a_min= 0\n",
    "    k =  decreasing_list[0][0]\n",
    "    \n",
    "    for a in range(len(decreasing_list)):\n",
    "        for b in range(len(decreasing_list[a])):\n",
    "            if k > decreasing_list[a][b]:\n",
    "                k = decreasing_list[a][b]\n",
    "                a_min = a\n",
    "    \n",
    "    print(\"k =\",k,\"k-1 =\",k-1)\n",
    "    \n",
    "    i = np.where(seq == k)[0][0] \n",
    "    j = np.where(seq == k-1)[0][0] \n",
    "    print(\"First \",i,j)\n",
    "    if i < j:\n",
    "        # min_sprit_first_value is the fist element of sublist that contain the min\n",
    "        min_sprit_first_value = decreasing_list[a_min][0]\n",
    "        i = np.where(seq == min_sprit_first_value)[0][0]\n",
    "    else:\n",
    "        # add code for j it should be the last element decreasing_list[a_min][-1]\n",
    "        i,j = j+1, i+1\n",
    "           \n",
    "    print(\"Second \",i,j)\n",
    "    return i,j"
   ]
  },
  {
   "cell_type": "code",
   "execution_count": 32,
   "metadata": {},
   "outputs": [],
   "source": [
    "def get_ij_increasing(seq, increasing_list):\n",
    "    last_list = None\n",
    "    print(increasing_list)\n",
    "    for sublist in reversed(increasing_list): \n",
    "        print(sublist)\n",
    "        if len(sublist) > 1: \n",
    "            last_list = sublist \n",
    "            break\n",
    "\n",
    "    a = last_list[0]\n",
    "    b = last_list[-1]\n",
    "    \n",
    "    seq = np.array(seq)\n",
    "    i = np.where(seq == a)[0][0] \n",
    "    j = np.where(seq == b)[0][0] + 1\n",
    "    return i,j"
   ]
  },
  {
   "cell_type": "code",
   "execution_count": 33,
   "metadata": {},
   "outputs": [
    {
     "name": "stdout",
     "output_type": "stream",
     "text": [
      "Sequence  [0 6 5 3 1 2 4 7]\n",
      "[array([0]), array([3]), array([1, 2]), array([4])]\n",
      "[array([6, 5])]\n",
      "k = 5 k-1 = 4\n",
      "First  2 6\n",
      "Second  1 6\n",
      "1 6\n",
      "i,j 1 5\n",
      "Sequence with reverse 1 5 [0 2 1 3 5 6 4 7]\n",
      "total breakpoints 5\n",
      "[array([0]), array([3]), array([5, 6]), array([4])]\n",
      "[array([2, 1])]\n",
      "k = 1 k-1 = 0\n",
      "First  2 0\n",
      "Second  1 3\n",
      "1 3\n",
      "i,j 1 2\n",
      "Sequence with reverse 1 2 [0 1 2 3 5 6 4 7]\n",
      "total breakpoints 3\n",
      "[array([0, 1, 2, 3]), array([5, 6]), array([4])]\n",
      "[]\n",
      "[array([0, 1, 2, 3]), array([5, 6]), array([4])]\n",
      "[4]\n",
      "[5 6]\n",
      "i,j 4 5\n",
      "Sequence with reverse 4 5 [0 1 2 3 6 5 4 7]\n",
      "total breakpoints 2\n",
      "[array([0, 1, 2, 3])]\n",
      "[array([6, 5, 4])]\n",
      "k = 4 k-1 = 3\n",
      "First  6 3\n",
      "Second  4 7\n",
      "4 7\n",
      "i,j 4 6\n",
      "Sequence with reverse 4 6 [0 1 2 3 4 5 6 7]\n",
      "total breakpoints 0\n"
     ]
    }
   ],
   "source": [
    "seq = [6,5,3,1,2,4]\n",
    "# 1. Add 0 and n \n",
    "seq = np.insert(seq,0,0)\n",
    "seq = np.insert(seq,len(seq),len(seq))\n",
    "print(\"Sequence \", seq)\n",
    "\n",
    "total_break_points, broke_seq, break_point_indice = break_seq(seq)\n",
    "\n",
    "# 2. if total_break_points != 0\n",
    "while total_break_points != 0 : \n",
    "    increasing_list, decreasing_list = [], []\n",
    "    # 2.1 get  increasing strip list and decreasing strip list from the broke list \n",
    "    increasing_list,decreasing_list = strip(broke_seq)\n",
    "    print(increasing_list)\n",
    "    print(decreasing_list)\n",
    "    # 2.2 If decreasing_list.shape[0] != 0  reverse sequnce\n",
    "    \n",
    "    if len(decreasing_list)!= 0:\n",
    "        i,j = get_ij_decreasing(seq, decreasing_list) #print(i,j)\n",
    "        print(i,j)\n",
    "    else:\n",
    "        i,j = get_ij_increasing(seq, increasing_list) #\n",
    "\n",
    "    print(\"i,j\",i,j-1)\n",
    "    seq = reverse(seq,i,j) \n",
    "    total_break_points, broke_seq, break_point_indice = break_seq(seq)\n",
    "    print(\"Sequence with reverse\",i,j-1,seq)  \n",
    "    print(\"total breakpoints\",total_break_points)  # There is an error here, total break point is always 6"
   ]
  },
  {
   "cell_type": "markdown",
   "metadata": {},
   "source": [
    "### Breakpoint Reversal Sort\n"
   ]
  },
  {
   "cell_type": "code",
   "execution_count": 42,
   "metadata": {},
   "outputs": [
    {
     "name": "stdout",
     "output_type": "stream",
     "text": [
      "[0 6 5 3 1 2 4 7 8]\n",
      "[0 6 5 3 1 2 4 7 8]\n",
      "[0 6 5 3 1 2 4 7 8]\n",
      "[0 6 5 3 2 1 4 7 8]\n",
      "[0 6 5 3 2 1 4 7 8]\n",
      "[0 6 5 3 2 1 4 7 8]\n",
      "[0 6 5 3 2 1 4 7 8]\n",
      "[0 6 5 1 2 3 4 7 8]\n",
      "[0 6 5 1 2 3 4 7 8]\n",
      "[0 6 5 1 2 3 4 7 8]\n",
      "[0 6 5 1 2 3 4 7 8]\n",
      "[0 6 5 4 3 2 1 7 8]\n",
      "[0 6 5 4 3 2 1 7 8]\n",
      "[0 1 2 3 4 5 6 7 8]\n",
      "in order to obtain the optimal sequcence is  [0 1 2 3 4 5 6 7 8] \n",
      "we invert element of postion:\n",
      "4  5\n",
      "3  5\n",
      "3  6\n",
      "1  6\n"
     ]
    }
   ],
   "source": [
    "index = [index for index, sublist in enumerate(broke_seq) if len(sublist) > 1]\n",
    "\n",
    "seq_opt = seq.copy()\n",
    "min_b = b(seq)\n",
    "inverse_ij = []\n",
    "\n",
    "while min_b != 0:\n",
    "    #print(min_b)\n",
    "    total_break_points, broke_seq, break_point_indice = break_seq(seq_opt)\n",
    "    for k in range(len(break_point_indice)):\n",
    "        sub_list = broke_seq[k]\n",
    "        sub_list_length = len(sub_list)\n",
    "        if sub_list_length > 1:\n",
    "            j = break_point_indice[k]\n",
    "            i = j - sub_list_length\n",
    "            seq_1 = seq_opt.copy()\n",
    "            seq_2 = reverse(seq_1,i,j)\n",
    "            if b(seq_2) < min_b:\n",
    "                seq_opt = seq_2.copy()\n",
    "                min_b = b(seq_opt)\n",
    "                #print(seq_opt) \n",
    "                inverse_ij.append([i,j-1]) \n",
    "        print(seq_opt)\n",
    "\n",
    "print(\"in order to obtain the optimal sequcence is \", seq_opt, \"\\nwe invert element of postion:\")\n",
    "for ij in inverse_ij:\n",
    "    print(ij[0],\"\",ij[1])\n"
   ]
  }
 ],
 "metadata": {
  "kernelspec": {
   "display_name": "Python 3",
   "language": "python",
   "name": "python3"
  },
  "language_info": {
   "codemirror_mode": {
    "name": "ipython",
    "version": 3
   },
   "file_extension": ".py",
   "mimetype": "text/x-python",
   "name": "python",
   "nbconvert_exporter": "python",
   "pygments_lexer": "ipython3",
   "version": "3.11.5"
  }
 },
 "nbformat": 4,
 "nbformat_minor": 2
}
